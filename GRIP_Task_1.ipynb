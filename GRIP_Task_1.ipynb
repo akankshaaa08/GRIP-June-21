{
  "nbformat": 4,
  "nbformat_minor": 0,
  "metadata": {
    "colab": {
      "name": "GRIP_Task_1.ipynb",
      "provenance": []
    },
    "kernelspec": {
      "name": "python3",
      "display_name": "Python 3"
    },
    "language_info": {
      "name": "python"
    }
  },
  "cells": [
    {
      "cell_type": "markdown",
      "metadata": {
        "id": "JKc09gFvzaOg"
      },
      "source": [
        "#**The Sparks Foundation**\n",
        "\n",
        "#**Graduate Rotational Internship Program, June 2021**\n",
        "\n",
        "##**By: Akanksha Singh Pandaw** \n",
        "##**Function: Data Science & Business Analytics**\n",
        "\n",
        "###***Task 1: Prediction using Supervised ML***\n"
      ]
    },
    {
      "cell_type": "markdown",
      "metadata": {
        "id": "70I8EJcG1H0j"
      },
      "source": [
        "##**1. Importing Libraries**"
      ]
    },
    {
      "cell_type": "code",
      "metadata": {
        "id": "gOJ1iBy8v7Jy"
      },
      "source": [
        "# Importing neccessary libraries for data manipulation and data visualization\n",
        "import pandas as pd\n",
        "import numpy as np\n",
        "import matplotlib.pyplot as plt\n",
        "import matplotlib as matplot\n",
        "import seaborn as sns\n",
        "from sklearn import metrics\n",
        "from sklearn.model_selection import train_test_split\n",
        "from sklearn.metrics import r2_score \n",
        "from sklearn.linear_model import LinearRegression\n",
        "from sklearn import datasets, linear_model\n",
        "from sklearn.metrics import mean_squared_error\n",
        "from sklearn.metrics import mean_absolute_error"
      ],
      "execution_count": null,
      "outputs": []
    },
    {
      "cell_type": "markdown",
      "metadata": {
        "id": "nHA00Caz1Ta4"
      },
      "source": [
        "##**2. Importing the Dataset**"
      ]
    },
    {
      "cell_type": "code",
      "metadata": {
        "colab": {
          "base_uri": "https://localhost:8080/",
          "height": 839
        },
        "id": "kJd1wSdJ1Syp",
        "outputId": "d3fb34a1-9e40-41be-f794-fe7e1ddb29c0"
      },
      "source": [
        "url = \"http://bit.ly/w-data\"\n",
        "df = pd.read_csv(url)\n",
        "print(\"Data Imported Successfully!\")\n",
        "df"
      ],
      "execution_count": null,
      "outputs": [
        {
          "output_type": "stream",
          "text": [
            "Data Imported Successfully!\n"
          ],
          "name": "stdout"
        },
        {
          "output_type": "execute_result",
          "data": {
            "text/html": [
              "<div>\n",
              "<style scoped>\n",
              "    .dataframe tbody tr th:only-of-type {\n",
              "        vertical-align: middle;\n",
              "    }\n",
              "\n",
              "    .dataframe tbody tr th {\n",
              "        vertical-align: top;\n",
              "    }\n",
              "\n",
              "    .dataframe thead th {\n",
              "        text-align: right;\n",
              "    }\n",
              "</style>\n",
              "<table border=\"1\" class=\"dataframe\">\n",
              "  <thead>\n",
              "    <tr style=\"text-align: right;\">\n",
              "      <th></th>\n",
              "      <th>Hours</th>\n",
              "      <th>Scores</th>\n",
              "    </tr>\n",
              "  </thead>\n",
              "  <tbody>\n",
              "    <tr>\n",
              "      <th>0</th>\n",
              "      <td>2.5</td>\n",
              "      <td>21</td>\n",
              "    </tr>\n",
              "    <tr>\n",
              "      <th>1</th>\n",
              "      <td>5.1</td>\n",
              "      <td>47</td>\n",
              "    </tr>\n",
              "    <tr>\n",
              "      <th>2</th>\n",
              "      <td>3.2</td>\n",
              "      <td>27</td>\n",
              "    </tr>\n",
              "    <tr>\n",
              "      <th>3</th>\n",
              "      <td>8.5</td>\n",
              "      <td>75</td>\n",
              "    </tr>\n",
              "    <tr>\n",
              "      <th>4</th>\n",
              "      <td>3.5</td>\n",
              "      <td>30</td>\n",
              "    </tr>\n",
              "    <tr>\n",
              "      <th>5</th>\n",
              "      <td>1.5</td>\n",
              "      <td>20</td>\n",
              "    </tr>\n",
              "    <tr>\n",
              "      <th>6</th>\n",
              "      <td>9.2</td>\n",
              "      <td>88</td>\n",
              "    </tr>\n",
              "    <tr>\n",
              "      <th>7</th>\n",
              "      <td>5.5</td>\n",
              "      <td>60</td>\n",
              "    </tr>\n",
              "    <tr>\n",
              "      <th>8</th>\n",
              "      <td>8.3</td>\n",
              "      <td>81</td>\n",
              "    </tr>\n",
              "    <tr>\n",
              "      <th>9</th>\n",
              "      <td>2.7</td>\n",
              "      <td>25</td>\n",
              "    </tr>\n",
              "    <tr>\n",
              "      <th>10</th>\n",
              "      <td>7.7</td>\n",
              "      <td>85</td>\n",
              "    </tr>\n",
              "    <tr>\n",
              "      <th>11</th>\n",
              "      <td>5.9</td>\n",
              "      <td>62</td>\n",
              "    </tr>\n",
              "    <tr>\n",
              "      <th>12</th>\n",
              "      <td>4.5</td>\n",
              "      <td>41</td>\n",
              "    </tr>\n",
              "    <tr>\n",
              "      <th>13</th>\n",
              "      <td>3.3</td>\n",
              "      <td>42</td>\n",
              "    </tr>\n",
              "    <tr>\n",
              "      <th>14</th>\n",
              "      <td>1.1</td>\n",
              "      <td>17</td>\n",
              "    </tr>\n",
              "    <tr>\n",
              "      <th>15</th>\n",
              "      <td>8.9</td>\n",
              "      <td>95</td>\n",
              "    </tr>\n",
              "    <tr>\n",
              "      <th>16</th>\n",
              "      <td>2.5</td>\n",
              "      <td>30</td>\n",
              "    </tr>\n",
              "    <tr>\n",
              "      <th>17</th>\n",
              "      <td>1.9</td>\n",
              "      <td>24</td>\n",
              "    </tr>\n",
              "    <tr>\n",
              "      <th>18</th>\n",
              "      <td>6.1</td>\n",
              "      <td>67</td>\n",
              "    </tr>\n",
              "    <tr>\n",
              "      <th>19</th>\n",
              "      <td>7.4</td>\n",
              "      <td>69</td>\n",
              "    </tr>\n",
              "    <tr>\n",
              "      <th>20</th>\n",
              "      <td>2.7</td>\n",
              "      <td>30</td>\n",
              "    </tr>\n",
              "    <tr>\n",
              "      <th>21</th>\n",
              "      <td>4.8</td>\n",
              "      <td>54</td>\n",
              "    </tr>\n",
              "    <tr>\n",
              "      <th>22</th>\n",
              "      <td>3.8</td>\n",
              "      <td>35</td>\n",
              "    </tr>\n",
              "    <tr>\n",
              "      <th>23</th>\n",
              "      <td>6.9</td>\n",
              "      <td>76</td>\n",
              "    </tr>\n",
              "    <tr>\n",
              "      <th>24</th>\n",
              "      <td>7.8</td>\n",
              "      <td>86</td>\n",
              "    </tr>\n",
              "  </tbody>\n",
              "</table>\n",
              "</div>"
            ],
            "text/plain": [
              "    Hours  Scores\n",
              "0     2.5      21\n",
              "1     5.1      47\n",
              "2     3.2      27\n",
              "3     8.5      75\n",
              "4     3.5      30\n",
              "5     1.5      20\n",
              "6     9.2      88\n",
              "7     5.5      60\n",
              "8     8.3      81\n",
              "9     2.7      25\n",
              "10    7.7      85\n",
              "11    5.9      62\n",
              "12    4.5      41\n",
              "13    3.3      42\n",
              "14    1.1      17\n",
              "15    8.9      95\n",
              "16    2.5      30\n",
              "17    1.9      24\n",
              "18    6.1      67\n",
              "19    7.4      69\n",
              "20    2.7      30\n",
              "21    4.8      54\n",
              "22    3.8      35\n",
              "23    6.9      76\n",
              "24    7.8      86"
            ]
          },
          "metadata": {
            "tags": []
          },
          "execution_count": 2
        }
      ]
    },
    {
      "cell_type": "markdown",
      "metadata": {
        "id": "P-O_g-ad2ELN"
      },
      "source": [
        "##**3. Exploring the Dataset**"
      ]
    },
    {
      "cell_type": "markdown",
      "metadata": {
        "id": "O-ck9JJL2OwR"
      },
      "source": [
        "###**3.1 Determining the Shape (Rows and Columns)**"
      ]
    },
    {
      "cell_type": "code",
      "metadata": {
        "colab": {
          "base_uri": "https://localhost:8080/"
        },
        "id": "elfo5vQd1148",
        "outputId": "7064fe95-531a-42a7-dd9f-c9b7e2397840"
      },
      "source": [
        "df.shape"
      ],
      "execution_count": null,
      "outputs": [
        {
          "output_type": "execute_result",
          "data": {
            "text/plain": [
              "(25, 2)"
            ]
          },
          "metadata": {
            "tags": []
          },
          "execution_count": 3
        }
      ]
    },
    {
      "cell_type": "markdown",
      "metadata": {
        "id": "DuWREjGm3BTn"
      },
      "source": [
        "###**3.2 Determining the DataTypes and Null Values**"
      ]
    },
    {
      "cell_type": "code",
      "metadata": {
        "colab": {
          "base_uri": "https://localhost:8080/"
        },
        "id": "OzHCBJF127aF",
        "outputId": "4bc8ea7a-1d3a-4a5c-924c-607a4b494cfa"
      },
      "source": [
        "df.info()"
      ],
      "execution_count": null,
      "outputs": [
        {
          "output_type": "stream",
          "text": [
            "<class 'pandas.core.frame.DataFrame'>\n",
            "RangeIndex: 25 entries, 0 to 24\n",
            "Data columns (total 2 columns):\n",
            " #   Column  Non-Null Count  Dtype  \n",
            "---  ------  --------------  -----  \n",
            " 0   Hours   25 non-null     float64\n",
            " 1   Scores  25 non-null     int64  \n",
            "dtypes: float64(1), int64(1)\n",
            "memory usage: 528.0 bytes\n"
          ],
          "name": "stdout"
        }
      ]
    },
    {
      "cell_type": "markdown",
      "metadata": {
        "id": "OP0uirgZ3iMD"
      },
      "source": [
        "###**3.3 Statistical Analysis of the Data**"
      ]
    },
    {
      "cell_type": "code",
      "metadata": {
        "colab": {
          "base_uri": "https://localhost:8080/",
          "height": 296
        },
        "id": "msRZNzOP3Q1i",
        "outputId": "6fbc53d0-6d9b-404b-d609-36239b778127"
      },
      "source": [
        "df.describe()"
      ],
      "execution_count": null,
      "outputs": [
        {
          "output_type": "execute_result",
          "data": {
            "text/html": [
              "<div>\n",
              "<style scoped>\n",
              "    .dataframe tbody tr th:only-of-type {\n",
              "        vertical-align: middle;\n",
              "    }\n",
              "\n",
              "    .dataframe tbody tr th {\n",
              "        vertical-align: top;\n",
              "    }\n",
              "\n",
              "    .dataframe thead th {\n",
              "        text-align: right;\n",
              "    }\n",
              "</style>\n",
              "<table border=\"1\" class=\"dataframe\">\n",
              "  <thead>\n",
              "    <tr style=\"text-align: right;\">\n",
              "      <th></th>\n",
              "      <th>Hours</th>\n",
              "      <th>Scores</th>\n",
              "    </tr>\n",
              "  </thead>\n",
              "  <tbody>\n",
              "    <tr>\n",
              "      <th>count</th>\n",
              "      <td>25.000000</td>\n",
              "      <td>25.000000</td>\n",
              "    </tr>\n",
              "    <tr>\n",
              "      <th>mean</th>\n",
              "      <td>5.012000</td>\n",
              "      <td>51.480000</td>\n",
              "    </tr>\n",
              "    <tr>\n",
              "      <th>std</th>\n",
              "      <td>2.525094</td>\n",
              "      <td>25.286887</td>\n",
              "    </tr>\n",
              "    <tr>\n",
              "      <th>min</th>\n",
              "      <td>1.100000</td>\n",
              "      <td>17.000000</td>\n",
              "    </tr>\n",
              "    <tr>\n",
              "      <th>25%</th>\n",
              "      <td>2.700000</td>\n",
              "      <td>30.000000</td>\n",
              "    </tr>\n",
              "    <tr>\n",
              "      <th>50%</th>\n",
              "      <td>4.800000</td>\n",
              "      <td>47.000000</td>\n",
              "    </tr>\n",
              "    <tr>\n",
              "      <th>75%</th>\n",
              "      <td>7.400000</td>\n",
              "      <td>75.000000</td>\n",
              "    </tr>\n",
              "    <tr>\n",
              "      <th>max</th>\n",
              "      <td>9.200000</td>\n",
              "      <td>95.000000</td>\n",
              "    </tr>\n",
              "  </tbody>\n",
              "</table>\n",
              "</div>"
            ],
            "text/plain": [
              "           Hours     Scores\n",
              "count  25.000000  25.000000\n",
              "mean    5.012000  51.480000\n",
              "std     2.525094  25.286887\n",
              "min     1.100000  17.000000\n",
              "25%     2.700000  30.000000\n",
              "50%     4.800000  47.000000\n",
              "75%     7.400000  75.000000\n",
              "max     9.200000  95.000000"
            ]
          },
          "metadata": {
            "tags": []
          },
          "execution_count": 5
        }
      ]
    },
    {
      "cell_type": "markdown",
      "metadata": {
        "id": "BJ2IRat532en"
      },
      "source": [
        "###**3.4 Observations:**\n",
        "* The Dataset has 25 rows and 2 columns\n",
        "* There are NO Null values present\n",
        "* The column \"Hour\" has datatype `float`\n",
        "* The column \"Score\" has datatype `integer`\n",
        "* Maximum and Minimum Study Hour is 9.2 and 1.1 respectively\n",
        "* Maximum and Minimum Score is 95 and 17 respectively\n",
        "* Mean Study Hour is 5.01\n",
        "* Mean Score is 51.48"
      ]
    },
    {
      "cell_type": "markdown",
      "metadata": {
        "id": "J-7qLNZ85Qm_"
      },
      "source": [
        "##**4. Data Visualization**"
      ]
    },
    {
      "cell_type": "markdown",
      "metadata": {
        "id": "Z6IByiJ5xxt-"
      },
      "source": [
        "###**4.1. Using Scatter Plots**\n",
        "\n",
        "  * Scatter plots show how much one variable is affected by another.\n",
        "  * The relationship between two variables is called their correlation .\n",
        "  * The closer the data points come , the higher the correlation between the two variables, or the stronger the relationship.\n",
        "  * When the y variable tends to increase as the x variable increases, we say there is a positive correlation between the variables and vice versa.\n",
        "  "
      ]
    },
    {
      "cell_type": "code",
      "metadata": {
        "colab": {
          "base_uri": "https://localhost:8080/",
          "height": 404
        },
        "id": "g-1KBhaq6Vpu",
        "outputId": "2d484ce6-f51e-4a33-f57d-8cc52db1d1f1"
      },
      "source": [
        "plt.figure(figsize=(6,6))\n",
        "plt.scatter(df['Hours'], df['Scores'], c =\"red\" , marker=\"*\")\n",
        "plt.title(\"Scores Vs Hours\")\n",
        "plt.xlabel(\"Hours of study\")\n",
        "plt.ylabel(\"Scores of the students\")\n",
        "plt.show()"
      ],
      "execution_count": null,
      "outputs": [
        {
          "output_type": "display_data",
          "data": {
            "image/png": "[encoded data removed]",
            "text/plain": [
              "<Figure size 432x432 with 1 Axes>"
            ]
          },
          "metadata": {
            "tags": [],
            "needs_background": "light"
          }
        }
      ]
    },
    {
      "cell_type": "markdown",
      "metadata": {
        "id": "9Ni7mrIQktiU"
      },
      "source": [
        "###**4.2 Using Pie Chart**\n",
        "\n",
        "* Used for analyzing the composition of data\n",
        "* In the Pie Chart given below, each slice represents the scores obatained by the students"
      ]
    },
    {
      "cell_type": "code",
      "metadata": {
        "colab": {
          "base_uri": "https://localhost:8080/",
          "height": 411
        },
        "id": "aC0s8x1eifTS",
        "outputId": "6e4303a9-752a-4ed6-e4c7-eb7ba328b5f2"
      },
      "source": [
        "fig = plt.figure(figsize =(10, 7))\n",
        "plt.pie(df['Scores'], labels = df['Hours'])\n",
        "plt.show()"
      ],
      "execution_count": null,
      "outputs": [
        {
          "output_type": "display_data",
          "data": {
            "image/png": "[encoded data removed]",
            "text/plain": [
              "<Figure size 720x504 with 1 Axes>"
            ]
          },
          "metadata": {
            "tags": []
          }
        }
      ]
    },
    {
      "cell_type": "markdown",
      "metadata": {
        "id": "tdmHTSpQ_FQi"
      },
      "source": [
        "###**4.3 Correlation HeatMap**\n",
        "\n",
        "* It illustrates the correlation between different variables using colored cells"
      ]
    },
    {
      "cell_type": "code",
      "metadata": {
        "colab": {
          "base_uri": "https://localhost:8080/",
          "height": 379
        },
        "id": "juHAAXDX792e",
        "outputId": "97395784-b48e-496e-81fa-1e9e65f92950"
      },
      "source": [
        "plt.figure(figsize = (6,6))\n",
        "sns.heatmap(df.corr(), annot = True, square=True , cmap=\"coolwarm\")"
      ],
      "execution_count": null,
      "outputs": [
        {
          "output_type": "execute_result",
          "data": {
            "text/plain": [
              "<matplotlib.axes._subplots.AxesSubplot at 0x7f6c55587d50>"
            ]
          },
          "metadata": {
            "tags": []
          },
          "execution_count": 11
        },
        {
          "output_type": "display_data",
          "data": {
            "image/png": "[encoded data removed]",
            "text/plain": [
              "<Figure size 432x432 with 2 Axes>"
            ]
          },
          "metadata": {
            "tags": [],
            "needs_background": "light"
          }
        }
      ]
    },
    {
      "cell_type": "markdown",
      "metadata": {
        "id": "s7-9e6Op_vqM"
      },
      "source": [
        "###**4.4 Observations:**\n",
        "\n",
        "* From the above heatmap we can observe that, `Scores` and `Hours` have a strong positive correlation.\n",
        "* Due to positive correlation, if the value of one variable increases, the other will also increase\n",
        "* Therefore, there is a **Linear Relationship** between `Scores` and `Hours`"
      ]
    },
    {
      "cell_type": "markdown",
      "metadata": {
        "id": "rWwfCI3DAyQY"
      },
      "source": [
        "##**5. Creating Linear Regression Model**"
      ]
    },
    {
      "cell_type": "code",
      "metadata": {
        "id": "xHRdJCCk8k-w"
      },
      "source": [
        "X = df[[\"Hours\"]]\n",
        "y = df[[\"Scores\"]]"
      ],
      "execution_count": null,
      "outputs": []
    },
    {
      "cell_type": "markdown",
      "metadata": {
        "id": "P15_MBOFC1dq"
      },
      "source": [
        "###**5.1 Splitting the dataset into Train (70%) and Test Set (30%)**"
      ]
    },
    {
      "cell_type": "code",
      "metadata": {
        "colab": {
          "base_uri": "https://localhost:8080/"
        },
        "id": "T3HJK6u1CnZs",
        "outputId": "a5955cf4-8d1a-46c4-e72d-97fe81d1023f"
      },
      "source": [
        "X_train, X_test, y_train, y_test = train_test_split(X, y, test_size=0.30)\n",
        "print(\"Original Size of Dataset----------->\",X.shape,y.shape)\n",
        "print(\"\\nSize of X Train: \", X_train.shape)\n",
        "print(\"\\nSize of Y Train: \", y_train.shape)\n",
        "print(\"\\nSize of X Test: \", X_test.shape)\n",
        "print(\"\\nSize of Y Test: \", y_test.shape)"
      ],
      "execution_count": null,
      "outputs": [
        {
          "output_type": "stream",
          "text": [
            "Original Size of Dataset-----------> (25, 1) (25, 1)\n",
            "\n",
            "Size of X Train:  (17, 1)\n",
            "\n",
            "Size of Y Train:  (17, 1)\n",
            "\n",
            "Size of X Test:  (8, 1)\n",
            "\n",
            "Size of Y Test:  (8, 1)\n"
          ],
          "name": "stdout"
        }
      ]
    },
    {
      "cell_type": "markdown",
      "metadata": {
        "id": "Tpd7rSioEYp0"
      },
      "source": [
        "###**5.2 Model Training**"
      ]
    },
    {
      "cell_type": "code",
      "metadata": {
        "colab": {
          "base_uri": "https://localhost:8080/"
        },
        "id": "iBRr40bOQjlb",
        "outputId": "82f11be4-ca85-48aa-9366-bbf82b87e002"
      },
      "source": [
        "model = LinearRegression()  \n",
        "model.fit(X_train, y_train) \n",
        "\n",
        "print(\"The Model is trained!\")"
      ],
      "execution_count": null,
      "outputs": [
        {
          "output_type": "stream",
          "text": [
            "The Model is trained!\n"
          ],
          "name": "stdout"
        }
      ]
    },
    {
      "cell_type": "markdown",
      "metadata": {
        "id": "c-PMo4uUEhn2"
      },
      "source": [
        "###**5.3 Determining Coefficient and Intercept of Linear Regression Model**"
      ]
    },
    {
      "cell_type": "code",
      "metadata": {
        "colab": {
          "base_uri": "https://localhost:8080/"
        },
        "id": "JBc3JJ-ZDrck",
        "outputId": "76fd39fa-ed70-4c28-8e53-d0faa6f481bc"
      },
      "source": [
        "print(\"Coefficent of the Model: \", model.coef_)\n",
        "print(\"Intercept of the Model: \", model.intercept_)"
      ],
      "execution_count": null,
      "outputs": [
        {
          "output_type": "stream",
          "text": [
            "Coefficent of the Model:  [[9.76410771]]\n",
            "Intercept of the Model:  [1.3115288]\n"
          ],
          "name": "stdout"
        }
      ]
    },
    {
      "cell_type": "markdown",
      "metadata": {
        "id": "VVGsjOK_HP9K"
      },
      "source": [
        "###**5.4 Visualizing the Regression Line that best fits the given data**"
      ]
    },
    {
      "cell_type": "markdown",
      "metadata": {
        "id": "TZ-r_ZVcmGaM"
      },
      "source": [
        "###**5.4.1 For Train Set**"
      ]
    },
    {
      "cell_type": "code",
      "metadata": {
        "colab": {
          "base_uri": "https://localhost:8080/",
          "height": 265
        },
        "id": "GmmL0oDeD6ZG",
        "outputId": "c5d9148d-a07f-4e78-b211-9203683d32f1"
      },
      "source": [
        "reg_line = model.coef_*X + model.intercept_\n",
        "\n",
        "plt.scatter(X , y)\n",
        "plt.plot(X, reg_line , color=\"red\")\n",
        "plt.show()"
      ],
      "execution_count": null,
      "outputs": [
        {
          "output_type": "display_data",
          "data": {
            "image/png": "[encoded data removed]",
            "text/plain": [
              "<Figure size 432x288 with 1 Axes>"
            ]
          },
          "metadata": {
            "tags": [],
            "needs_background": "light"
          }
        }
      ]
    },
    {
      "cell_type": "markdown",
      "metadata": {
        "id": "XgN-94-TmMjh"
      },
      "source": [
        "###**5.4.2 For Test Set**"
      ]
    },
    {
      "cell_type": "code",
      "metadata": {
        "colab": {
          "base_uri": "https://localhost:8080/",
          "height": 265
        },
        "id": "fgnlqLNL2bVo",
        "outputId": "8ea6a2ca-ad04-4dd9-90f4-3ef5cac32c7a"
      },
      "source": [
        "reg_line_test = model.coef_*X_test + model.intercept_\n",
        "\n",
        "plt.scatter(X_test , y_test)\n",
        "plt.plot(X_test, reg_line_test , color=\"red\")\n",
        "plt.show()"
      ],
      "execution_count": null,
      "outputs": [
        {
          "output_type": "display_data",
          "data": {
            "image/png": "[encoded data removed]",
            "text/plain": [
              "<Figure size 432x288 with 1 Axes>"
            ]
          },
          "metadata": {
            "tags": [],
            "needs_background": "light"
          }
        }
      ]
    },
    {
      "cell_type": "markdown",
      "metadata": {
        "id": "sf4K_CYWHxXe"
      },
      "source": [
        "##**6. Making Prediction from Regression Model**"
      ]
    },
    {
      "cell_type": "markdown",
      "metadata": {
        "id": "rnJDwEQnIsEk"
      },
      "source": [
        "###**6.1 Generating predictions from the Test Set**"
      ]
    },
    {
      "cell_type": "code",
      "metadata": {
        "colab": {
          "base_uri": "https://localhost:8080/"
        },
        "id": "iGLceqPfGczX",
        "outputId": "df2900c1-68bf-4d0a-e8f7-bdb86f8846d7"
      },
      "source": [
        "y_pred = model.predict(X_test)\n",
        "y_pred"
      ],
      "execution_count": null,
      "outputs": [
        {
          "output_type": "execute_result",
          "data": {
            "text/plain": [
              "array([[68.68387198],\n",
              "       [38.41513808],\n",
              "       [91.1413197 ],\n",
              "       [48.17924579],\n",
              "       [76.49515814],\n",
              "       [19.86333344],\n",
              "       [58.91976427],\n",
              "       [33.53308423]])"
            ]
          },
          "metadata": {
            "tags": []
          },
          "execution_count": 18
        }
      ]
    },
    {
      "cell_type": "markdown",
      "metadata": {
        "id": "nNBIdEoOIzZp"
      },
      "source": [
        "###**6.2 Comparision of Actual Vs Predicted Scores**"
      ]
    },
    {
      "cell_type": "code",
      "metadata": {
        "colab": {
          "base_uri": "https://localhost:8080/",
          "height": 296
        },
        "id": "0OWjLBr1cQXX",
        "outputId": "d7b6d715-3701-4461-b286-275a5b8c1c4d"
      },
      "source": [
        "#Creating new dataframe for comparison of actual and predicted scores\n",
        "\n",
        "df_compare= pd.DataFrame(y_test)\n",
        "df_compare['Number of Hours'] = df['Hours']\n",
        "df_compare['Predicted Scores'] = y_pred\n",
        "\n",
        "df_compare.index = np.arange(0, len(df_compare))        #Rearranging the index\n",
        "df_compare = df_compare.reindex(['Number of Hours','Scores','Predicted Scores'], axis=1)      #Rearranging the columns\n",
        "df_compare"
      ],
      "execution_count": null,
      "outputs": [
        {
          "output_type": "execute_result",
          "data": {
            "text/html": [
              "<div>\n",
              "<style scoped>\n",
              "    .dataframe tbody tr th:only-of-type {\n",
              "        vertical-align: middle;\n",
              "    }\n",
              "\n",
              "    .dataframe tbody tr th {\n",
              "        vertical-align: top;\n",
              "    }\n",
              "\n",
              "    .dataframe thead th {\n",
              "        text-align: right;\n",
              "    }\n",
              "</style>\n",
              "<table border=\"1\" class=\"dataframe\">\n",
              "  <thead>\n",
              "    <tr style=\"text-align: right;\">\n",
              "      <th></th>\n",
              "      <th>Number of Hours</th>\n",
              "      <th>Scores</th>\n",
              "      <th>Predicted Scores</th>\n",
              "    </tr>\n",
              "  </thead>\n",
              "  <tbody>\n",
              "    <tr>\n",
              "      <th>0</th>\n",
              "      <td>6.9</td>\n",
              "      <td>76</td>\n",
              "      <td>68.683872</td>\n",
              "    </tr>\n",
              "    <tr>\n",
              "      <th>1</th>\n",
              "      <td>3.8</td>\n",
              "      <td>35</td>\n",
              "      <td>38.415138</td>\n",
              "    </tr>\n",
              "    <tr>\n",
              "      <th>2</th>\n",
              "      <td>9.2</td>\n",
              "      <td>88</td>\n",
              "      <td>91.141320</td>\n",
              "    </tr>\n",
              "    <tr>\n",
              "      <th>3</th>\n",
              "      <td>4.8</td>\n",
              "      <td>54</td>\n",
              "      <td>48.179246</td>\n",
              "    </tr>\n",
              "    <tr>\n",
              "      <th>4</th>\n",
              "      <td>7.7</td>\n",
              "      <td>85</td>\n",
              "      <td>76.495158</td>\n",
              "    </tr>\n",
              "    <tr>\n",
              "      <th>5</th>\n",
              "      <td>1.9</td>\n",
              "      <td>24</td>\n",
              "      <td>19.863333</td>\n",
              "    </tr>\n",
              "    <tr>\n",
              "      <th>6</th>\n",
              "      <td>5.9</td>\n",
              "      <td>62</td>\n",
              "      <td>58.919764</td>\n",
              "    </tr>\n",
              "    <tr>\n",
              "      <th>7</th>\n",
              "      <td>3.3</td>\n",
              "      <td>42</td>\n",
              "      <td>33.533084</td>\n",
              "    </tr>\n",
              "  </tbody>\n",
              "</table>\n",
              "</div>"
            ],
            "text/plain": [
              "   Number of Hours  Scores  Predicted Scores\n",
              "0              6.9      76         68.683872\n",
              "1              3.8      35         38.415138\n",
              "2              9.2      88         91.141320\n",
              "3              4.8      54         48.179246\n",
              "4              7.7      85         76.495158\n",
              "5              1.9      24         19.863333\n",
              "6              5.9      62         58.919764\n",
              "7              3.3      42         33.533084"
            ]
          },
          "metadata": {
            "tags": []
          },
          "execution_count": 19
        }
      ]
    },
    {
      "cell_type": "markdown",
      "metadata": {
        "id": "qFXOVhytUZh4"
      },
      "source": [
        "##**7. Model Evaluation**"
      ]
    },
    {
      "cell_type": "markdown",
      "metadata": {
        "id": "f443GfnadPSZ"
      },
      "source": [
        "###**7.1 Model Accuracy**"
      ]
    },
    {
      "cell_type": "code",
      "metadata": {
        "colab": {
          "base_uri": "https://localhost:8080/"
        },
        "id": "FqHPGoMVz3Id",
        "outputId": "0d9814e5-0802-4ac6-9029-c4ec10f74373"
      },
      "source": [
        "acc_train = model.score(X_train , y_train)\n",
        "acc_train = acc_train*100\n",
        "\n",
        "acc_test = model.score(X_test , y_test)\n",
        "acc_test = acc_test*100\n",
        "\n",
        "print(\"Model Accuracy with Train Set: %.2f\"% acc_train)\n",
        "print(\"Model Accuracy with Test Set:  %.2f\"% acc_test) "
      ],
      "execution_count": null,
      "outputs": [
        {
          "output_type": "stream",
          "text": [
            "Model Accuracy with Train Set: 94.26\n",
            "Model Accuracy with Test Set:  96.60\n"
          ],
          "name": "stdout"
        }
      ]
    },
    {
      "cell_type": "markdown",
      "metadata": {
        "id": "z4kljoy_fiqR"
      },
      "source": [
        "###**7.2 Determining the Mean Absolute and Mean Squared Error**"
      ]
    },
    {
      "cell_type": "code",
      "metadata": {
        "colab": {
          "base_uri": "https://localhost:8080/"
        },
        "id": "p85aGemteG2o",
        "outputId": "c05b3bd1-6031-489f-8d42-ad1990416a7f"
      },
      "source": [
        "mae = mean_absolute_error(y_test,y_pred)\n",
        "mse = mean_squared_error(y_test,y_pred)\n",
        "\n",
        "print('Mean absolute error is: %.2f'% mae)\n",
        "print('Mean squared error is: %.2f'% mse )"
      ],
      "execution_count": null,
      "outputs": [
        {
          "output_type": "stream",
          "text": [
            "Mean absolute error is: 4.51\n",
            "Mean squared error is: 22.16\n"
          ],
          "name": "stdout"
        }
      ]
    },
    {
      "cell_type": "markdown",
      "metadata": {
        "id": "2p8FZ5f7ejwb"
      },
      "source": [
        "#**Final Answer to, What will be predicted score if a student studies for 9.25 hrs/ day?**"
      ]
    },
    {
      "cell_type": "code",
      "metadata": {
        "colab": {
          "base_uri": "https://localhost:8080/"
        },
        "id": "CwRGl_P_9k-4",
        "outputId": "92b9e8fa-9d38-4166-bb46-1f1373c1e7d7"
      },
      "source": [
        "result = model.predict([[9.25]])\n",
        "result"
      ],
      "execution_count": null,
      "outputs": [
        {
          "output_type": "execute_result",
          "data": {
            "text/plain": [
              "array([[94.41831286]])"
            ]
          },
          "metadata": {
            "tags": []
          },
          "execution_count": 23
        }
      ]
    },
    {
      "cell_type": "code",
      "metadata": {
        "colab": {
          "base_uri": "https://localhost:8080/"
        },
        "id": "7r8M13C0n53y",
        "outputId": "efb1e241-c17f-4ac3-ff73-b63058a9e7c0"
      },
      "source": [
        "print(\"If a student studies for 9.25 hr/day, the score will be: %.2f\"%result[0][0])"
      ],
      "execution_count": null,
      "outputs": [
        {
          "output_type": "stream",
          "text": [
            "If a student studies for 9.25 hr/day, the score will be: 94.42\n"
          ],
          "name": "stdout"
        }
      ]
    }
  ]
}